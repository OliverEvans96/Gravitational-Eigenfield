{
 "cells": [
  {
   "cell_type": "code",
   "execution_count": 1,
   "metadata": {},
   "outputs": [],
   "source": [
    "import numpy as np\n",
    "from sympy import *\n",
    "%matplotlib inline\n",
    "init_printing()"
   ]
  },
  {
   "cell_type": "code",
   "execution_count": 52,
   "metadata": {},
   "outputs": [],
   "source": [
    "var('G,Q,k,r,t')\n",
    "w = var('omega')\n",
    "th = var('theta')\n",
    "ph = var('phi')\n",
    "ep = var('ep')"
   ]
  },
  {
   "cell_type": "code",
   "execution_count": null,
   "metadata": {},
   "outputs": [],
   "source": []
  },
  {
   "cell_type": "code",
   "execution_count": 26,
   "metadata": {},
   "outputs": [
    {
     "data": {
      "image/png": "[encoded data removed]",
      "text/latex": [
       "$$4 G \\omega^{2} \\varepsilon^{2} k$$"
      ],
      "text/plain": [
       "          2            2  \n",
       "4⋅G⋅\\omega ⋅\\varepsilon ⋅k"
      ]
     },
     "execution_count": 26,
     "metadata": {},
     "output_type": "execute_result"
    }
   ],
   "source": [
    "4*G*k*ep**2*w**2"
   ]
  },
  {
   "cell_type": "code",
   "execution_count": 27,
   "metadata": {},
   "outputs": [
    {
     "data": {
      "image/png": "[encoded data removed]",
      "text/latex": [
       "$$4 \\cos^{2}{\\left (\\theta \\right )}$$"
      ],
      "text/plain": [
       "     2        \n",
       "4⋅cos (\\theta)"
      ]
     },
     "execution_count": 27,
     "metadata": {},
     "output_type": "execute_result"
    }
   ],
   "source": [
    "4*cos(th)**2"
   ]
  },
  {
   "cell_type": "code",
   "execution_count": 53,
   "metadata": {},
   "outputs": [],
   "source": [
    "e_plus = 4*G*Q*k**2/r**3 * ((-1+3/(k*r)**2)*cos(k*r-w*t) + 3*sin(k*r-w*t)/(k*r)) * (3*cos(th)**2-1)"
   ]
  },
  {
   "cell_type": "code",
   "execution_count": 62,
   "metadata": {},
   "outputs": [
    {
     "name": "stdout",
     "output_type": "stream",
     "text": [
      "4*G*Q*k^2*((-1 + 3/(k^2*r^2))*cos(k*r - omega*t) + 3*sin(k*r - omega*t)/(k*r))*(3*cos(theta)^2 - 1)/r^3\n",
      "\n",
      "-2*G*Q*k^2*(-(-2*k*r + 3/(k*r))*sin(k*r - omega*t) + (-k^2*r^2 + 3 - 3/(k^2*r^2))*cos(k*r - omega*t))*sin(theta)^2/r^3\n"
     ]
    }
   ],
   "source": [
    "print('{}'.format(e_plus).replace('**','^'))\n",
    "print()\n",
    "print('{}'.format(e_minus).replace('**','^'))"
   ]
  },
  {
   "cell_type": "code",
   "execution_count": 55,
   "metadata": {},
   "outputs": [],
   "source": [
    "e_minus = -2*G*Q*k**2/r**3 * ((-3/(k*r)**2+3-(k*r)**2)*cos(k*r-w*t) - (3/(k*r) - 2*k*r)*sin(k*r-w*t))*sin(th)**2"
   ]
  },
  {
   "cell_type": "code",
   "execution_count": 56,
   "metadata": {},
   "outputs": [
    {
     "name": "stdout",
     "output_type": "stream",
     "text": [
      "-2*G*Q*k**2*(-(-2*k*r + 3/(k*r))*sin(k*r - omega*t) + (-k**2*r**2 + 3 - 3/(k**2*r**2))*cos(k*r - omega*t))*sin(theta)**2/r**3\n"
     ]
    }
   ],
   "source": [
    "print(e_minus)"
   ]
  },
  {
   "cell_type": "code",
   "execution_count": 49,
   "metadata": {},
   "outputs": [
    {
     "ename": "NameError",
     "evalue": "name 'text' is not defined",
     "output_type": "error",
     "traceback": [
      "\u001b[0;31m---------------------------------------------------------------------------\u001b[0m",
      "\u001b[0;31mNameError\u001b[0m                                 Traceback (most recent call last)",
      "\u001b[0;32m<ipython-input-49-0b120e4ba3eb>\u001b[0m in \u001b[0;36m<module>\u001b[0;34m()\u001b[0m\n\u001b[0;32m----> 1\u001b[0;31m \u001b[0mtext\u001b[0m\u001b[0;34m(\u001b[0m\u001b[0me_minus\u001b[0m\u001b[0;34m)\u001b[0m\u001b[0;34m\u001b[0m\u001b[0m\n\u001b[0m",
      "\u001b[0;31mNameError\u001b[0m: name 'text' is not defined"
     ]
    }
   ],
   "source": [
    "text(e_minus)"
   ]
  },
  {
   "cell_type": "code",
   "execution_count": 50,
   "metadata": {},
   "outputs": [
    {
     "ename": "TypeError",
     "evalue": "textplot() missing 2 required positional arguments: 'a' and 'b'",
     "output_type": "error",
     "traceback": [
      "\u001b[0;31m---------------------------------------------------------------------------\u001b[0m",
      "\u001b[0;31mTypeError\u001b[0m                                 Traceback (most recent call last)",
      "\u001b[0;32m<ipython-input-50-b88ed196997a>\u001b[0m in \u001b[0;36m<module>\u001b[0;34m()\u001b[0m\n\u001b[0;32m----> 1\u001b[0;31m \u001b[0mtextplot\u001b[0m\u001b[0;34m(\u001b[0m\u001b[0me_minus\u001b[0m\u001b[0;34m)\u001b[0m\u001b[0;34m\u001b[0m\u001b[0m\n\u001b[0m",
      "\u001b[0;31mTypeError\u001b[0m: textplot() missing 2 required positional arguments: 'a' and 'b'"
     ]
    }
   ],
   "source": [
    "e_minus."
   ]
  },
  {
   "cell_type": "code",
   "execution_count": 32,
   "metadata": {},
   "outputs": [
    {
     "data": {
      "text/plain": [
       "\u001b[0;31mSignature:\u001b[0m \u001b[0msimplify\u001b[0m\u001b[0;34m(\u001b[0m\u001b[0mexpr\u001b[0m\u001b[0;34m,\u001b[0m \u001b[0mratio\u001b[0m\u001b[0;34m=\u001b[0m\u001b[0;36m1.7\u001b[0m\u001b[0;34m,\u001b[0m \u001b[0mmeasure\u001b[0m\u001b[0;34m=\u001b[0m\u001b[0;34m<\u001b[0m\u001b[0mfunction\u001b[0m \u001b[0mcount_ops\u001b[0m \u001b[0mat\u001b[0m \u001b[0;36m0x7efc5cbc4ea0\u001b[0m\u001b[0;34m>\u001b[0m\u001b[0;34m,\u001b[0m \u001b[0mfu\u001b[0m\u001b[0;34m=\u001b[0m\u001b[0;32mFalse\u001b[0m\u001b[0;34m)\u001b[0m\u001b[0;34m\u001b[0m\u001b[0m\n",
       "\u001b[0;31mDocstring:\u001b[0m\n",
       "Simplifies the given expression.\n",
       "\n",
       "Simplification is not a well defined term and the exact strategies\n",
       "this function tries can change in the future versions of SymPy. If\n",
       "your algorithm relies on \"simplification\" (whatever it is), try to\n",
       "determine what you need exactly  -  is it powsimp()?, radsimp()?,\n",
       "together()?, logcombine()?, or something else? And use this particular\n",
       "function directly, because those are well defined and thus your algorithm\n",
       "will be robust.\n",
       "\n",
       "Nonetheless, especially for interactive use, or when you don't know\n",
       "anything about the structure of the expression, simplify() tries to apply\n",
       "intelligent heuristics to make the input expression \"simpler\".  For\n",
       "example:\n",
       "\n",
       ">>> from sympy import simplify, cos, sin\n",
       ">>> from sympy.abc import x, y\n",
       ">>> a = (x + x**2)/(x*sin(y)**2 + x*cos(y)**2)\n",
       ">>> a\n",
       "(x**2 + x)/(x*sin(y)**2 + x*cos(y)**2)\n",
       ">>> simplify(a)\n",
       "x + 1\n",
       "\n",
       "Note that we could have obtained the same result by using specific\n",
       "simplification functions:\n",
       "\n",
       ">>> from sympy import trigsimp, cancel\n",
       ">>> trigsimp(a)\n",
       "(x**2 + x)/x\n",
       ">>> cancel(_)\n",
       "x + 1\n",
       "\n",
       "In some cases, applying :func:`simplify` may actually result in some more\n",
       "complicated expression. The default ``ratio=1.7`` prevents more extreme\n",
       "cases: if (result length)/(input length) > ratio, then input is returned\n",
       "unmodified.  The ``measure`` parameter lets you specify the function used\n",
       "to determine how complex an expression is.  The function should take a\n",
       "single argument as an expression and return a number such that if\n",
       "expression ``a`` is more complex than expression ``b``, then\n",
       "``measure(a) > measure(b)``.  The default measure function is\n",
       ":func:`count_ops`, which returns the total number of operations in the\n",
       "expression.\n",
       "\n",
       "For example, if ``ratio=1``, ``simplify`` output can't be longer\n",
       "than input.\n",
       "\n",
       "::\n",
       "\n",
       "    >>> from sympy import sqrt, simplify, count_ops, oo\n",
       "    >>> root = 1/(sqrt(2)+3)\n",
       "\n",
       "Since ``simplify(root)`` would result in a slightly longer expression,\n",
       "root is returned unchanged instead::\n",
       "\n",
       "   >>> simplify(root, ratio=1) == root\n",
       "   True\n",
       "\n",
       "If ``ratio=oo``, simplify will be applied anyway::\n",
       "\n",
       "    >>> count_ops(simplify(root, ratio=oo)) > count_ops(root)\n",
       "    True\n",
       "\n",
       "Note that the shortest expression is not necessary the simplest, so\n",
       "setting ``ratio`` to 1 may not be a good idea.\n",
       "Heuristically, the default value ``ratio=1.7`` seems like a reasonable\n",
       "choice.\n",
       "\n",
       "You can easily define your own measure function based on what you feel\n",
       "should represent the \"size\" or \"complexity\" of the input expression.  Note\n",
       "that some choices, such as ``lambda expr: len(str(expr))`` may appear to be\n",
       "good metrics, but have other problems (in this case, the measure function\n",
       "may slow down simplify too much for very large expressions).  If you don't\n",
       "know what a good metric would be, the default, ``count_ops``, is a good\n",
       "one.\n",
       "\n",
       "For example:\n",
       "\n",
       ">>> from sympy import symbols, log\n",
       ">>> a, b = symbols('a b', positive=True)\n",
       ">>> g = log(a) + log(b) + log(a)*log(1/b)\n",
       ">>> h = simplify(g)\n",
       ">>> h\n",
       "log(a*b**(-log(a) + 1))\n",
       ">>> count_ops(g)\n",
       "8\n",
       ">>> count_ops(h)\n",
       "5\n",
       "\n",
       "So you can see that ``h`` is simpler than ``g`` using the count_ops metric.\n",
       "However, we may not like how ``simplify`` (in this case, using\n",
       "``logcombine``) has created the ``b**(log(1/a) + 1)`` term.  A simple way\n",
       "to reduce this would be to give more weight to powers as operations in\n",
       "``count_ops``.  We can do this by using the ``visual=True`` option:\n",
       "\n",
       ">>> print(count_ops(g, visual=True))\n",
       "2*ADD + DIV + 4*LOG + MUL\n",
       ">>> print(count_ops(h, visual=True))\n",
       "2*LOG + MUL + POW + SUB\n",
       "\n",
       ">>> from sympy import Symbol, S\n",
       ">>> def my_measure(expr):\n",
       "...     POW = Symbol('POW')\n",
       "...     # Discourage powers by giving POW a weight of 10\n",
       "...     count = count_ops(expr, visual=True).subs(POW, 10)\n",
       "...     # Every other operation gets a weight of 1 (the default)\n",
       "...     count = count.replace(Symbol, type(S.One))\n",
       "...     return count\n",
       ">>> my_measure(g)\n",
       "8\n",
       ">>> my_measure(h)\n",
       "14\n",
       ">>> 15./8 > 1.7 # 1.7 is the default ratio\n",
       "True\n",
       ">>> simplify(g, measure=my_measure)\n",
       "-log(a)*log(b) + log(a) + log(b)\n",
       "\n",
       "Note that because ``simplify()`` internally tries many different\n",
       "simplification strategies and then compares them using the measure\n",
       "function, we get a completely different result that is still different\n",
       "from the input expression by doing this.\n",
       "\u001b[0;31mFile:\u001b[0m      ~/local/miniconda3/lib/python3.5/site-packages/sympy/simplify/simplify.py\n",
       "\u001b[0;31mType:\u001b[0m      function\n"
      ]
     },
     "metadata": {},
     "output_type": "display_data"
    }
   ],
   "source": [
    "simplify?"
   ]
  }
 ],
 "metadata": {
  "kernelspec": {
   "display_name": "Python 3",
   "language": "python",
   "name": "python3"
  },
  "language_info": {
   "codemirror_mode": {
    "name": "ipython",
    "version": 3
   },
   "file_extension": ".py",
   "mimetype": "text/x-python",
   "name": "python",
   "nbconvert_exporter": "python",
   "pygments_lexer": "ipython3",
   "version": "3.5.2"
  }
 },
 "nbformat": 4,
 "nbformat_minor": 2
}
